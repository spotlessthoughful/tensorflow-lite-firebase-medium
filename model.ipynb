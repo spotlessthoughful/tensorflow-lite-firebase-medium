{
 "cells": [
  {
   "metadata": {
    "ExecuteTime": {
     "end_time": "2024-07-14T03:26:07.530431Z",
     "start_time": "2024-07-14T03:26:07.508805Z"
    }
   },
   "cell_type": "code",
   "source": [
    "# Import necessary libraries\n",
    "import tensorflow as tf\n",
    "from tensorflow.keras.datasets import mnist\n",
    "from tensorflow.keras.models import Sequential\n",
    "from tensorflow.keras.layers import Dense, Flatten"
   ],
   "id": "fac2e00c6956eb6",
   "outputs": [],
   "execution_count": 11
  },
  {
   "metadata": {
    "ExecuteTime": {
     "end_time": "2024-07-14T03:26:08.254307Z",
     "start_time": "2024-07-14T03:26:07.781819Z"
    }
   },
   "cell_type": "code",
   "source": [
    "# Load dataset\n",
    "(x_train, y_train), (x_test, y_test) = mnist.load_data()"
   ],
   "id": "3ab7bc56038ac9eb",
   "outputs": [],
   "execution_count": 12
  },
  {
   "metadata": {
    "ExecuteTime": {
     "end_time": "2024-07-14T03:26:08.522305Z",
     "start_time": "2024-07-14T03:26:08.259306Z"
    }
   },
   "cell_type": "code",
   "source": [
    "# Normalize the images to [0, 1] range\n",
    "x_train, x_test = x_train / 255.0, x_test / 255.0"
   ],
   "id": "4d0f5eaafc1fd346",
   "outputs": [],
   "execution_count": 13
  },
  {
   "metadata": {
    "ExecuteTime": {
     "end_time": "2024-07-14T03:26:08.601895Z",
     "start_time": "2024-07-14T03:26:08.526294Z"
    }
   },
   "cell_type": "code",
   "source": [
    "# Build the model\n",
    "model = Sequential([\n",
    "    Flatten(input_shape=(28, 28)),\n",
    "    Dense(128, activation='relu'),\n",
    "    Dense(10, activation='softmax')\n",
    "])"
   ],
   "id": "3a809f5964f1e3a9",
   "outputs": [],
   "execution_count": 14
  },
  {
   "metadata": {
    "ExecuteTime": {
     "end_time": "2024-07-14T03:26:08.633403Z",
     "start_time": "2024-07-14T03:26:08.606855Z"
    }
   },
   "cell_type": "code",
   "source": [
    "# Compile the model\n",
    "model.compile(optimizer='adam',\n",
    "              loss='sparse_categorical_crossentropy',\n",
    "              metrics=['accuracy'])"
   ],
   "id": "a1a4252720dad197",
   "outputs": [],
   "execution_count": 15
  },
  {
   "metadata": {
    "jupyter": {
     "is_executing": true
    },
    "ExecuteTime": {
     "start_time": "2024-07-14T03:26:08.638402Z"
    }
   },
   "cell_type": "code",
   "source": [
    "# Train the model\n",
    "model.fit(x_train, y_train, epochs=5)"
   ],
   "id": "a0d49b66d28a039e",
   "outputs": [
    {
     "name": "stdout",
     "output_type": "stream",
     "text": [
      "Epoch 1/5\n",
      "1875/1875 [==============================] - 7s 3ms/step - loss: 0.2532 - accuracy: 0.9279\n",
      "Epoch 2/5\n",
      "1875/1875 [==============================] - 6s 3ms/step - loss: 0.1092 - accuracy: 0.9682\n",
      "Epoch 3/5\n",
      " 684/1875 [=========>....................] - ETA: 3s - loss: 0.0765 - accuracy: 0.9773"
     ]
    }
   ],
   "execution_count": null
  },
  {
   "metadata": {
    "jupyter": {
     "is_executing": true
    }
   },
   "cell_type": "code",
   "source": [
    "# Evaluate the model\n",
    "model.evaluate(x_test, y_test)"
   ],
   "id": "e1f9f8c223aff938",
   "outputs": [],
   "execution_count": null
  },
  {
   "metadata": {
    "jupyter": {
     "is_executing": true
    }
   },
   "cell_type": "code",
   "source": [
    "# Convert the model to TensorFlow Lite format\n",
    "converter = tf.lite.TFLiteConverter.from_keras_model(model)\n",
    "tflite_model = converter.convert()"
   ],
   "id": "44997e76b11c35a7",
   "outputs": [],
   "execution_count": null
  },
  {
   "metadata": {
    "jupyter": {
     "is_executing": true
    }
   },
   "cell_type": "code",
   "source": [
    "# Save the model\n",
    "with open('model.tflite', 'wb') as f:\n",
    "    f.write(tflite_model)"
   ],
   "id": "8e982967a7487848",
   "outputs": [],
   "execution_count": null
  },
  {
   "metadata": {
    "jupyter": {
     "is_executing": true
    }
   },
   "cell_type": "code",
   "source": "",
   "id": "851debdaaaccba75",
   "outputs": [],
   "execution_count": null
  }
 ],
 "metadata": {
  "kernelspec": {
   "display_name": "Python 3",
   "language": "python",
   "name": "python3"
  },
  "language_info": {
   "codemirror_mode": {
    "name": "ipython",
    "version": 2
   },
   "file_extension": ".py",
   "mimetype": "text/x-python",
   "name": "python",
   "nbconvert_exporter": "python",
   "pygments_lexer": "ipython2",
   "version": "2.7.6"
  }
 },
 "nbformat": 4,
 "nbformat_minor": 5
}
